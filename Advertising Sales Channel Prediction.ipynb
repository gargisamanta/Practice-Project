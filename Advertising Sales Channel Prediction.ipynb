{
 "cells": [
  {
   "cell_type": "markdown",
   "id": "e74bcf93",
   "metadata": {},
   "source": [
    "# The case study of Sales channel includes the detailed study of TV, radio and newspaper channel. The predict the total sales generated from all the sales channel.  "
   ]
  },
  {
   "cell_type": "code",
   "execution_count": 1,
   "id": "49733881",
   "metadata": {},
   "outputs": [],
   "source": [
    "# Import Libraries\n",
    "import numpy as np\n",
    "import pandas as pd\n",
    "import matplotlib.pyplot as plt\n",
    "import seaborn as sns\n",
    "from sklearn.model_selection import train_test_split\n",
    "from sklearn.linear_model import LinearRegression\n",
    "from sklearn.metrics import classification_report "
   ]
  },
  {
   "cell_type": "code",
   "execution_count": 2,
   "id": "759655c1",
   "metadata": {},
   "outputs": [],
   "source": [
    "# Import the file\n",
    "sales=pd.read_csv('https://raw.githubusercontent.com/dsrscientist/DSData/master/Advertising.csv')"
   ]
  },
  {
   "cell_type": "code",
   "execution_count": 3,
   "id": "ac344140",
   "metadata": {},
   "outputs": [
    {
     "data": {
      "text/html": [
       "<div>\n",
       "<style scoped>\n",
       "    .dataframe tbody tr th:only-of-type {\n",
       "        vertical-align: middle;\n",
       "    }\n",
       "\n",
       "    .dataframe tbody tr th {\n",
       "        vertical-align: top;\n",
       "    }\n",
       "\n",
       "    .dataframe thead th {\n",
       "        text-align: right;\n",
       "    }\n",
       "</style>\n",
       "<table border=\"1\" class=\"dataframe\">\n",
       "  <thead>\n",
       "    <tr style=\"text-align: right;\">\n",
       "      <th></th>\n",
       "      <th>Unnamed: 0</th>\n",
       "      <th>TV</th>\n",
       "      <th>radio</th>\n",
       "      <th>newspaper</th>\n",
       "      <th>sales</th>\n",
       "    </tr>\n",
       "  </thead>\n",
       "  <tbody>\n",
       "    <tr>\n",
       "      <th>0</th>\n",
       "      <td>1</td>\n",
       "      <td>230.1</td>\n",
       "      <td>37.8</td>\n",
       "      <td>69.2</td>\n",
       "      <td>22.1</td>\n",
       "    </tr>\n",
       "    <tr>\n",
       "      <th>1</th>\n",
       "      <td>2</td>\n",
       "      <td>44.5</td>\n",
       "      <td>39.3</td>\n",
       "      <td>45.1</td>\n",
       "      <td>10.4</td>\n",
       "    </tr>\n",
       "    <tr>\n",
       "      <th>2</th>\n",
       "      <td>3</td>\n",
       "      <td>17.2</td>\n",
       "      <td>45.9</td>\n",
       "      <td>69.3</td>\n",
       "      <td>9.3</td>\n",
       "    </tr>\n",
       "    <tr>\n",
       "      <th>3</th>\n",
       "      <td>4</td>\n",
       "      <td>151.5</td>\n",
       "      <td>41.3</td>\n",
       "      <td>58.5</td>\n",
       "      <td>18.5</td>\n",
       "    </tr>\n",
       "    <tr>\n",
       "      <th>4</th>\n",
       "      <td>5</td>\n",
       "      <td>180.8</td>\n",
       "      <td>10.8</td>\n",
       "      <td>58.4</td>\n",
       "      <td>12.9</td>\n",
       "    </tr>\n",
       "  </tbody>\n",
       "</table>\n",
       "</div>"
      ],
      "text/plain": [
       "   Unnamed: 0     TV  radio  newspaper  sales\n",
       "0           1  230.1   37.8       69.2   22.1\n",
       "1           2   44.5   39.3       45.1   10.4\n",
       "2           3   17.2   45.9       69.3    9.3\n",
       "3           4  151.5   41.3       58.5   18.5\n",
       "4           5  180.8   10.8       58.4   12.9"
      ]
     },
     "execution_count": 3,
     "metadata": {},
     "output_type": "execute_result"
    }
   ],
   "source": [
    "\n",
    "sales.head()"
   ]
  },
  {
   "cell_type": "markdown",
   "id": "1e690a99",
   "metadata": {},
   "source": [
    "# Data information"
   ]
  },
  {
   "cell_type": "code",
   "execution_count": 4,
   "id": "71ae1880",
   "metadata": {},
   "outputs": [
    {
     "data": {
      "text/plain": [
       "(200, 5)"
      ]
     },
     "execution_count": 4,
     "metadata": {},
     "output_type": "execute_result"
    }
   ],
   "source": [
    "sales.shape"
   ]
  },
  {
   "cell_type": "code",
   "execution_count": 5,
   "id": "e70bf465",
   "metadata": {},
   "outputs": [
    {
     "name": "stdout",
     "output_type": "stream",
     "text": [
      "<class 'pandas.core.frame.DataFrame'>\n",
      "RangeIndex: 200 entries, 0 to 199\n",
      "Data columns (total 5 columns):\n",
      " #   Column      Non-Null Count  Dtype  \n",
      "---  ------      --------------  -----  \n",
      " 0   Unnamed: 0  200 non-null    int64  \n",
      " 1   TV          200 non-null    float64\n",
      " 2   radio       200 non-null    float64\n",
      " 3   newspaper   200 non-null    float64\n",
      " 4   sales       200 non-null    float64\n",
      "dtypes: float64(4), int64(1)\n",
      "memory usage: 7.9 KB\n"
     ]
    }
   ],
   "source": [
    "sales.info()"
   ]
  },
  {
   "cell_type": "code",
   "execution_count": 6,
   "id": "938308ad",
   "metadata": {},
   "outputs": [
    {
     "data": {
      "text/plain": [
       "Index(['Unnamed: 0', 'TV', 'radio', 'newspaper', 'sales'], dtype='object')"
      ]
     },
     "execution_count": 6,
     "metadata": {},
     "output_type": "execute_result"
    }
   ],
   "source": [
    "sales.columns"
   ]
  },
  {
   "cell_type": "code",
   "execution_count": 7,
   "id": "dc0dc691",
   "metadata": {},
   "outputs": [
    {
     "data": {
      "text/html": [
       "<div>\n",
       "<style scoped>\n",
       "    .dataframe tbody tr th:only-of-type {\n",
       "        vertical-align: middle;\n",
       "    }\n",
       "\n",
       "    .dataframe tbody tr th {\n",
       "        vertical-align: top;\n",
       "    }\n",
       "\n",
       "    .dataframe thead th {\n",
       "        text-align: right;\n",
       "    }\n",
       "</style>\n",
       "<table border=\"1\" class=\"dataframe\">\n",
       "  <thead>\n",
       "    <tr style=\"text-align: right;\">\n",
       "      <th></th>\n",
       "      <th>Unnamed: 0</th>\n",
       "      <th>TV</th>\n",
       "      <th>radio</th>\n",
       "      <th>newspaper</th>\n",
       "      <th>sales</th>\n",
       "    </tr>\n",
       "  </thead>\n",
       "  <tbody>\n",
       "    <tr>\n",
       "      <th>count</th>\n",
       "      <td>200.000000</td>\n",
       "      <td>200.000000</td>\n",
       "      <td>200.000000</td>\n",
       "      <td>200.000000</td>\n",
       "      <td>200.000000</td>\n",
       "    </tr>\n",
       "    <tr>\n",
       "      <th>mean</th>\n",
       "      <td>100.500000</td>\n",
       "      <td>147.042500</td>\n",
       "      <td>23.264000</td>\n",
       "      <td>30.554000</td>\n",
       "      <td>14.022500</td>\n",
       "    </tr>\n",
       "    <tr>\n",
       "      <th>std</th>\n",
       "      <td>57.879185</td>\n",
       "      <td>85.854236</td>\n",
       "      <td>14.846809</td>\n",
       "      <td>21.778621</td>\n",
       "      <td>5.217457</td>\n",
       "    </tr>\n",
       "    <tr>\n",
       "      <th>min</th>\n",
       "      <td>1.000000</td>\n",
       "      <td>0.700000</td>\n",
       "      <td>0.000000</td>\n",
       "      <td>0.300000</td>\n",
       "      <td>1.600000</td>\n",
       "    </tr>\n",
       "    <tr>\n",
       "      <th>25%</th>\n",
       "      <td>50.750000</td>\n",
       "      <td>74.375000</td>\n",
       "      <td>9.975000</td>\n",
       "      <td>12.750000</td>\n",
       "      <td>10.375000</td>\n",
       "    </tr>\n",
       "    <tr>\n",
       "      <th>50%</th>\n",
       "      <td>100.500000</td>\n",
       "      <td>149.750000</td>\n",
       "      <td>22.900000</td>\n",
       "      <td>25.750000</td>\n",
       "      <td>12.900000</td>\n",
       "    </tr>\n",
       "    <tr>\n",
       "      <th>75%</th>\n",
       "      <td>150.250000</td>\n",
       "      <td>218.825000</td>\n",
       "      <td>36.525000</td>\n",
       "      <td>45.100000</td>\n",
       "      <td>17.400000</td>\n",
       "    </tr>\n",
       "    <tr>\n",
       "      <th>max</th>\n",
       "      <td>200.000000</td>\n",
       "      <td>296.400000</td>\n",
       "      <td>49.600000</td>\n",
       "      <td>114.000000</td>\n",
       "      <td>27.000000</td>\n",
       "    </tr>\n",
       "  </tbody>\n",
       "</table>\n",
       "</div>"
      ],
      "text/plain": [
       "       Unnamed: 0          TV       radio   newspaper       sales\n",
       "count  200.000000  200.000000  200.000000  200.000000  200.000000\n",
       "mean   100.500000  147.042500   23.264000   30.554000   14.022500\n",
       "std     57.879185   85.854236   14.846809   21.778621    5.217457\n",
       "min      1.000000    0.700000    0.000000    0.300000    1.600000\n",
       "25%     50.750000   74.375000    9.975000   12.750000   10.375000\n",
       "50%    100.500000  149.750000   22.900000   25.750000   12.900000\n",
       "75%    150.250000  218.825000   36.525000   45.100000   17.400000\n",
       "max    200.000000  296.400000   49.600000  114.000000   27.000000"
      ]
     },
     "execution_count": 7,
     "metadata": {},
     "output_type": "execute_result"
    }
   ],
   "source": [
    "sales.describe()\n",
    "# Large amount of money is spent on TV advertising"
   ]
  },
  {
   "cell_type": "code",
   "execution_count": 8,
   "id": "7996b79e",
   "metadata": {},
   "outputs": [
    {
     "data": {
      "text/plain": [
       "Unnamed: 0    0\n",
       "TV            0\n",
       "radio         0\n",
       "newspaper     0\n",
       "sales         0\n",
       "dtype: int64"
      ]
     },
     "execution_count": 8,
     "metadata": {},
     "output_type": "execute_result"
    }
   ],
   "source": [
    "# Checking for null values\n",
    "sales.isnull().sum()\n",
    "# No null values as such in the dataset"
   ]
  },
  {
   "cell_type": "code",
   "execution_count": 9,
   "id": "b7f44351",
   "metadata": {},
   "outputs": [
    {
     "data": {
      "text/plain": [
       "<AxesSubplot:>"
      ]
     },
     "execution_count": 9,
     "metadata": {},
     "output_type": "execute_result"
    },
    {
     "data": {
      "image/png": "[encoded data removed]",
      "text/plain": [
       "<Figure size 432x288 with 2 Axes>"
      ]
     },
     "metadata": {
      "needs_background": "light"
     },
     "output_type": "display_data"
    }
   ],
   "source": [
    "sns.heatmap(sales.isnull())"
   ]
  },
  {
   "cell_type": "code",
   "execution_count": 10,
   "id": "ad99e437",
   "metadata": {},
   "outputs": [
    {
     "data": {
      "text/html": [
       "<div>\n",
       "<style scoped>\n",
       "    .dataframe tbody tr th:only-of-type {\n",
       "        vertical-align: middle;\n",
       "    }\n",
       "\n",
       "    .dataframe tbody tr th {\n",
       "        vertical-align: top;\n",
       "    }\n",
       "\n",
       "    .dataframe thead th {\n",
       "        text-align: right;\n",
       "    }\n",
       "</style>\n",
       "<table border=\"1\" class=\"dataframe\">\n",
       "  <thead>\n",
       "    <tr style=\"text-align: right;\">\n",
       "      <th></th>\n",
       "      <th>TV</th>\n",
       "      <th>radio</th>\n",
       "      <th>newspaper</th>\n",
       "      <th>sales</th>\n",
       "    </tr>\n",
       "  </thead>\n",
       "  <tbody>\n",
       "    <tr>\n",
       "      <th>0</th>\n",
       "      <td>230.1</td>\n",
       "      <td>37.8</td>\n",
       "      <td>69.2</td>\n",
       "      <td>22.1</td>\n",
       "    </tr>\n",
       "    <tr>\n",
       "      <th>1</th>\n",
       "      <td>44.5</td>\n",
       "      <td>39.3</td>\n",
       "      <td>45.1</td>\n",
       "      <td>10.4</td>\n",
       "    </tr>\n",
       "    <tr>\n",
       "      <th>2</th>\n",
       "      <td>17.2</td>\n",
       "      <td>45.9</td>\n",
       "      <td>69.3</td>\n",
       "      <td>9.3</td>\n",
       "    </tr>\n",
       "    <tr>\n",
       "      <th>3</th>\n",
       "      <td>151.5</td>\n",
       "      <td>41.3</td>\n",
       "      <td>58.5</td>\n",
       "      <td>18.5</td>\n",
       "    </tr>\n",
       "    <tr>\n",
       "      <th>4</th>\n",
       "      <td>180.8</td>\n",
       "      <td>10.8</td>\n",
       "      <td>58.4</td>\n",
       "      <td>12.9</td>\n",
       "    </tr>\n",
       "  </tbody>\n",
       "</table>\n",
       "</div>"
      ],
      "text/plain": [
       "      TV  radio  newspaper  sales\n",
       "0  230.1   37.8       69.2   22.1\n",
       "1   44.5   39.3       45.1   10.4\n",
       "2   17.2   45.9       69.3    9.3\n",
       "3  151.5   41.3       58.5   18.5\n",
       "4  180.8   10.8       58.4   12.9"
      ]
     },
     "execution_count": 10,
     "metadata": {},
     "output_type": "execute_result"
    }
   ],
   "source": [
    "# Delete the Unnamed column\n",
    "sales.drop(['Unnamed: 0'],axis=1,inplace=True)\n",
    "sales.head()"
   ]
  },
  {
   "cell_type": "markdown",
   "id": "dbab8b8d",
   "metadata": {},
   "source": [
    "# Finding the correlation between features"
   ]
  },
  {
   "cell_type": "code",
   "execution_count": 11,
   "id": "2fd7362e",
   "metadata": {},
   "outputs": [
    {
     "data": {
      "text/html": [
       "<div>\n",
       "<style scoped>\n",
       "    .dataframe tbody tr th:only-of-type {\n",
       "        vertical-align: middle;\n",
       "    }\n",
       "\n",
       "    .dataframe tbody tr th {\n",
       "        vertical-align: top;\n",
       "    }\n",
       "\n",
       "    .dataframe thead th {\n",
       "        text-align: right;\n",
       "    }\n",
       "</style>\n",
       "<table border=\"1\" class=\"dataframe\">\n",
       "  <thead>\n",
       "    <tr style=\"text-align: right;\">\n",
       "      <th></th>\n",
       "      <th>TV</th>\n",
       "      <th>radio</th>\n",
       "      <th>newspaper</th>\n",
       "      <th>sales</th>\n",
       "    </tr>\n",
       "  </thead>\n",
       "  <tbody>\n",
       "    <tr>\n",
       "      <th>TV</th>\n",
       "      <td>1.000000</td>\n",
       "      <td>0.054809</td>\n",
       "      <td>0.056648</td>\n",
       "      <td>0.782224</td>\n",
       "    </tr>\n",
       "    <tr>\n",
       "      <th>radio</th>\n",
       "      <td>0.054809</td>\n",
       "      <td>1.000000</td>\n",
       "      <td>0.354104</td>\n",
       "      <td>0.576223</td>\n",
       "    </tr>\n",
       "    <tr>\n",
       "      <th>newspaper</th>\n",
       "      <td>0.056648</td>\n",
       "      <td>0.354104</td>\n",
       "      <td>1.000000</td>\n",
       "      <td>0.228299</td>\n",
       "    </tr>\n",
       "    <tr>\n",
       "      <th>sales</th>\n",
       "      <td>0.782224</td>\n",
       "      <td>0.576223</td>\n",
       "      <td>0.228299</td>\n",
       "      <td>1.000000</td>\n",
       "    </tr>\n",
       "  </tbody>\n",
       "</table>\n",
       "</div>"
      ],
      "text/plain": [
       "                 TV     radio  newspaper     sales\n",
       "TV         1.000000  0.054809   0.056648  0.782224\n",
       "radio      0.054809  1.000000   0.354104  0.576223\n",
       "newspaper  0.056648  0.354104   1.000000  0.228299\n",
       "sales      0.782224  0.576223   0.228299  1.000000"
      ]
     },
     "execution_count": 11,
     "metadata": {},
     "output_type": "execute_result"
    }
   ],
   "source": [
    "\n",
    "sales.corr()"
   ]
  },
  {
   "cell_type": "code",
   "execution_count": 12,
   "id": "64a2be56",
   "metadata": {},
   "outputs": [
    {
     "data": {
      "image/png": "[encoded data removed]",
      "text/plain": [
       "<Figure size 432x288 with 2 Axes>"
      ]
     },
     "metadata": {
      "needs_background": "light"
     },
     "output_type": "display_data"
    }
   ],
   "source": [
    "sns.heatmap(sales.corr(),annot=True)\n",
    "plt.show()\n",
    "# its clearly visible that TV is having highly correlation with sales"
   ]
  },
  {
   "cell_type": "code",
   "execution_count": 13,
   "id": "efc64fec",
   "metadata": {},
   "outputs": [
    {
     "name": "stderr",
     "output_type": "stream",
     "text": [
      "C:\\Users\\LENOVO\\anaconda3\\lib\\site-packages\\seaborn\\_decorators.py:36: FutureWarning: Pass the following variable as a keyword arg: x. From version 0.12, the only valid positional argument will be `data`, and passing other arguments without an explicit keyword will result in an error or misinterpretation.\n",
      "  warnings.warn(\n",
      "C:\\Users\\LENOVO\\anaconda3\\lib\\site-packages\\seaborn\\_decorators.py:36: FutureWarning: Pass the following variable as a keyword arg: x. From version 0.12, the only valid positional argument will be `data`, and passing other arguments without an explicit keyword will result in an error or misinterpretation.\n",
      "  warnings.warn(\n",
      "C:\\Users\\LENOVO\\anaconda3\\lib\\site-packages\\seaborn\\_decorators.py:36: FutureWarning: Pass the following variable as a keyword arg: x. From version 0.12, the only valid positional argument will be `data`, and passing other arguments without an explicit keyword will result in an error or misinterpretation.\n",
      "  warnings.warn(\n"
     ]
    },
    {
     "data": {
      "image/png": "[encoded data removed]",
      "text/plain": [
       "<Figure size 504x504 with 3 Axes>"
      ]
     },
     "metadata": {
      "needs_background": "light"
     },
     "output_type": "display_data"
    }
   ],
   "source": [
    "# Analyse if any outliers are there in the data or not\n",
    "\n",
    "figure,axs=plt.subplots(3,figsize=(7,7))\n",
    "plt1=sns.boxplot(sales['TV'],ax=axs[0])\n",
    "plt2=sns.boxplot(sales['radio'],ax=axs[1])\n",
    "plt3=sns.boxplot(sales['newspaper'],ax=axs[2])\n",
    "plt.show()\n",
    "\n",
    "# No such outliers are present in the dataset which needs to be considered\n"
   ]
  },
  {
   "cell_type": "markdown",
   "id": "685031b6",
   "metadata": {},
   "source": [
    "# Explanatory Data Analysis through visualization which will show the relation of Sales with \n",
    "# other variables using scatter plot"
   ]
  },
  {
   "cell_type": "code",
   "execution_count": 14,
   "id": "cb0bbcec",
   "metadata": {},
   "outputs": [
    {
     "data": {
      "image/png": "[encoded data removed]",
      "text/plain": [
       "<Figure size 540x180 with 3 Axes>"
      ]
     },
     "metadata": {
      "needs_background": "light"
     },
     "output_type": "display_data"
    }
   ],
   "source": [
    "sns.pairplot(sales,x_vars=['TV','radio','newspaper'],y_vars='sales',kind='scatter')\n",
    "plt.show()"
   ]
  },
  {
   "cell_type": "code",
   "execution_count": 15,
   "id": "34f993c0",
   "metadata": {},
   "outputs": [
    {
     "data": {
      "text/plain": [
       "<Figure size 864x720 with 0 Axes>"
      ]
     },
     "metadata": {},
     "output_type": "display_data"
    },
    {
     "data": {
      "image/png": "[encoded data removed]",
      "text/plain": [
       "<Figure size 720x720 with 20 Axes>"
      ]
     },
     "metadata": {
      "needs_background": "light"
     },
     "output_type": "display_data"
    }
   ],
   "source": [
    "# Plotting  pairwise to visualize the relationship  among the features in  the dataset\n",
    "\n",
    "plt.figure(figsize=(12,10))\n",
    "\n",
    "sns.pairplot(sales)\n",
    "plt.show()"
   ]
  },
  {
   "cell_type": "code",
   "execution_count": 16,
   "id": "a2b4f031",
   "metadata": {},
   "outputs": [],
   "source": [
    "# From the pairplot and heatmap its clearly visible that the variable TV seems to be most correlated with Sales\n",
    "# Hence  we can first go with linear regression"
   ]
  },
  {
   "cell_type": "code",
   "execution_count": null,
   "id": "be33aa63",
   "metadata": {},
   "outputs": [],
   "source": []
  },
  {
   "cell_type": "markdown",
   "id": "fd9e2901",
   "metadata": {},
   "source": [
    "# Model Building\n"
   ]
  },
  {
   "cell_type": "code",
   "execution_count": 17,
   "id": "363fb447",
   "metadata": {},
   "outputs": [],
   "source": [
    "# We have to assing TV as X variable(independent) and sales as Y variable(dependent)\n",
    "x=sales['TV']\n",
    "y=sales['sales']\n"
   ]
  },
  {
   "cell_type": "code",
   "execution_count": 18,
   "id": "5923e314",
   "metadata": {},
   "outputs": [],
   "source": [
    "# has to reshape the x variable as getting data in 1D array\n",
    "x=np.array(x)\n",
    "x=x.reshape(-1,1)"
   ]
  },
  {
   "cell_type": "markdown",
   "id": "ed37123c",
   "metadata": {},
   "source": [
    "# Splitting the data into training and testing set"
   ]
  },
  {
   "cell_type": "code",
   "execution_count": 19,
   "id": "ca7e6068",
   "metadata": {},
   "outputs": [],
   "source": [
    "x_train,x_test,y_train,y_test=train_test_split(x,y,test_size=0.3,random_state=42)"
   ]
  },
  {
   "cell_type": "code",
   "execution_count": 20,
   "id": "1e0e9f6e",
   "metadata": {},
   "outputs": [
    {
     "name": "stdout",
     "output_type": "stream",
     "text": [
      "X-train shape: (140, 1)\n",
      "Y-train shape: (140,)\n",
      "X-test shape: (60, 1)\n",
      "Y-test shape: (60,)\n"
     ]
    }
   ],
   "source": [
    "print('X-train shape:',x_train.shape)\n",
    "print('Y-train shape:',y_train.shape)\n",
    "print('X-test shape:',x_test.shape)\n",
    "print('Y-test shape:',y_test.shape)"
   ]
  },
  {
   "cell_type": "markdown",
   "id": "ed558fa7",
   "metadata": {},
   "source": [
    "# Linear Regression Model"
   ]
  },
  {
   "cell_type": "code",
   "execution_count": 21,
   "id": "d8e8e01e",
   "metadata": {},
   "outputs": [],
   "source": [
    "lm=LinearRegression()"
   ]
  },
  {
   "cell_type": "code",
   "execution_count": 22,
   "id": "e3e8ef16",
   "metadata": {},
   "outputs": [
    {
     "data": {
      "text/plain": [
       "LinearRegression()"
      ]
     },
     "execution_count": 22,
     "metadata": {},
     "output_type": "execute_result"
    }
   ],
   "source": [
    "lm.fit(x,y)\n"
   ]
  },
  {
   "cell_type": "code",
   "execution_count": 23,
   "id": "85e6b63c",
   "metadata": {},
   "outputs": [
    {
     "name": "stdout",
     "output_type": "stream",
     "text": [
      "Linear Coefficients: [0.04753664]\n",
      "Linear intercept: 7.0325935491276965\n"
     ]
    }
   ],
   "source": [
    "print('Linear Coefficients:',lm.coef_)\n",
    "print('Linear intercept:',lm.intercept_)\n",
    "\n",
    "\n"
   ]
  },
  {
   "cell_type": "code",
   "execution_count": 24,
   "id": "3effc514",
   "metadata": {},
   "outputs": [
    {
     "data": {
      "text/plain": [
       "array([14.79532693, 16.32125309, 20.95607553,  7.58877224, 17.50491544,\n",
       "       10.60259525, 17.3385372 ,  9.40942557, 17.60474238, 15.35625929,\n",
       "        8.52999772,  9.70415274, 18.17993573,  7.28929141, 13.66395489,\n",
       "       15.12332975,  7.37961102, 16.4258337 , 10.61210257, 18.31779199,\n",
       "       17.94225253, 10.25557777,  8.83898589, 18.95953663, 10.31262174,\n",
       "        9.57580381, 17.18166628, 13.65444756, 11.17778859,  7.43190133,\n",
       "       16.53041431, 10.32212907, 16.48763133,  7.83596277, 20.37612852,\n",
       "       18.3558213 ,  9.32861328, 20.04337204, 12.60388781,  8.33985116,\n",
       "       12.54684384, 15.44657891,  9.08142275,  9.99412625, 17.68080101,\n",
       "        8.84849321, 10.38868036, 14.03474068, 12.00492614, 10.65963921,\n",
       "       10.74995883, 15.0377638 ,  7.44616232,  7.40337934, 10.66439288,\n",
       "       13.18383482, 10.52178296, 20.80395828,  7.9643117 , 16.4258337 ])"
      ]
     },
     "execution_count": 24,
     "metadata": {},
     "output_type": "execute_result"
    }
   ],
   "source": [
    "# Model Prediction\n",
    "y_pred=lm.predict(x_test)\n",
    "y_pred"
   ]
  },
  {
   "cell_type": "code",
   "execution_count": 25,
   "id": "c5714e40",
   "metadata": {},
   "outputs": [
    {
     "name": "stdout",
     "output_type": "stream",
     "text": [
      "8.911342352546482\n"
     ]
    }
   ],
   "source": [
    "# RMSE\n",
    "from sklearn.metrics import mean_squared_error\n",
    "print(mean_squared_error(y_test, y_pred))"
   ]
  },
  {
   "cell_type": "code",
   "execution_count": 26,
   "id": "8d8498a8",
   "metadata": {},
   "outputs": [
    {
     "data": {
      "text/plain": [
       "0.6736322951877849"
      ]
     },
     "execution_count": 26,
     "metadata": {},
     "output_type": "execute_result"
    }
   ],
   "source": [
    "# R-squared\n",
    "from sklearn.metrics import r2_score\n",
    "r2_score(y_test, y_pred)"
   ]
  },
  {
   "cell_type": "code",
   "execution_count": 27,
   "id": "77f9bd2c",
   "metadata": {},
   "outputs": [
    {
     "name": "stdout",
     "output_type": "stream",
     "text": [
      "Cross validate score: [22.1 10.4  9.3 18.5 12.9  7.2 11.8 13.2  4.8 10.6  8.6 17.4  9.2  9.7\n",
      " 19.  22.4 12.5 24.4 11.3 14.6 18.  12.5  5.6 15.5  9.7 12.  15.  15.9\n",
      " 18.9 10.5 21.4 11.9  9.6 17.4  9.5 12.8 25.4 14.7 10.1 21.5 16.6 17.1\n",
      " 20.7 12.9  8.5 14.9 10.6 23.2 14.8  9.7 11.4 10.7 22.6 21.2 20.2 23.7\n",
      "  5.5 13.2 23.8 18.4  8.1 24.2 15.7 14.  18.   9.3  9.5 13.4 18.9 22.3\n",
      " 18.3 12.4  8.8 11.  17.   8.7  6.9 14.2  5.3 11.  11.8 12.3 11.3 13.6\n",
      " 21.7 15.2 12.  16.  12.9 16.7 11.2  7.3 19.4 22.2 11.5 16.9 11.7 15.5\n",
      " 25.4 17.2 11.7 23.8 14.8 14.7 20.7 19.2  7.2  8.7  5.3 19.8 13.4 21.8\n",
      " 14.1 15.9 14.6 12.6 12.2  9.4 15.9  6.6 15.5  7.  11.6 15.2 19.7 10.6\n",
      "  6.6  8.8 24.7  9.7  1.6 12.7  5.7 19.6 10.8 11.6  9.5 20.8  9.6 20.7\n",
      " 10.9 19.2 20.1 10.4 11.4 10.3 13.2 25.4 10.9 10.1 16.1 11.6 16.6 19.\n",
      " 15.6  3.2 15.3 10.1  7.3 12.9 14.4 13.3 14.9 18.  11.9 11.9  8.  12.2\n",
      " 17.1 15.   8.4 14.5  7.6 11.7 11.5 27.  20.2 11.7 11.8 12.6 10.5 12.2\n",
      "  8.7 26.2 17.6 22.6 10.3 17.3 15.9  6.7 10.8  9.9  5.9 19.6 17.3  7.6\n",
      "  9.7 12.8 25.5 13.4]\n"
     ]
    }
   ],
   "source": [
    "# Cross validating \n",
    "from sklearn.model_selection import cross_val_predict\n",
    "scores=cross_val_predict(lm,sales,y,cv=6)\n",
    "print ('Cross validate score:',scores)"
   ]
  },
  {
   "cell_type": "code",
   "execution_count": 28,
   "id": "ae7ec40d",
   "metadata": {},
   "outputs": [
    {
     "data": {
      "text/plain": [
       "<function matplotlib.pyplot.show(close=None, block=None)>"
      ]
     },
     "execution_count": 28,
     "metadata": {},
     "output_type": "execute_result"
    },
    {
     "data": {
      "image/png": "[encoded data removed]",
      "text/plain": [
       "<Figure size 432x288 with 1 Axes>"
      ]
     },
     "metadata": {
      "needs_background": "light"
     },
     "output_type": "display_data"
    }
   ],
   "source": [
    "# To see the fit on the Training Data\n",
    "\n",
    "plt.scatter(x_test,y_test)\n",
    "plt.plot(x_test,6.9847+0.0545*x_test,'r')\n",
    "plt.show"
   ]
  },
  {
   "cell_type": "markdown",
   "id": "c4ee2aaf",
   "metadata": {},
   "source": [
    "# Multiple linear Regression\n",
    "\n"
   ]
  },
  {
   "cell_type": "code",
   "execution_count": 29,
   "id": "42eb0ed7",
   "metadata": {},
   "outputs": [],
   "source": [
    "from sklearn.linear_model import LinearRegression"
   ]
  },
  {
   "cell_type": "code",
   "execution_count": 30,
   "id": "48847256",
   "metadata": {},
   "outputs": [],
   "source": [
    "# Dividing features in x and y\n",
    "x=sales[['TV','radio','newspaper']]  # independent variables\n",
    "y=sales['sales']      # Dependent variable"
   ]
  },
  {
   "cell_type": "code",
   "execution_count": 31,
   "id": "c0b68d99",
   "metadata": {},
   "outputs": [
    {
     "data": {
      "text/plain": [
       "LinearRegression()"
      ]
     },
     "execution_count": 31,
     "metadata": {},
     "output_type": "execute_result"
    }
   ],
   "source": [
    "lm1=LinearRegression()\n",
    "lm1.fit(x,y)"
   ]
  },
  {
   "cell_type": "code",
   "execution_count": 32,
   "id": "1180e043",
   "metadata": {},
   "outputs": [
    {
     "name": "stdout",
     "output_type": "stream",
     "text": [
      "Linear Coefficients: [ 0.04576465  0.18853002 -0.00103749]\n",
      "Linear intercept: 2.9388893694594085\n"
     ]
    }
   ],
   "source": [
    "print('Linear Coefficients:',lm1.coef_)\n",
    "print('Linear intercept:',lm1.intercept_)"
   ]
  },
  {
   "cell_type": "code",
   "execution_count": 33,
   "id": "73b96f9c",
   "metadata": {},
   "outputs": [
    {
     "data": {
      "text/plain": [
       "array([20.52397441, 12.33785482, 12.30767078, 17.59782951, 13.18867186,\n",
       "       12.47834763, 11.72975995, 12.12295317,  3.72734086, 12.55084872,\n",
       "        7.0322992 , 17.28512918, 10.57712073,  8.82630048, 18.43436638,\n",
       "       20.81929952, 12.82365674, 23.22495716,  9.95168206, 14.16607293,\n",
       "       18.10076728, 14.7405382 ,  6.4891503 , 16.5459329 ,  8.14651887,\n",
       "       15.6100386 , 14.98951429, 17.05167344, 19.41053803,  9.14402389,\n",
       "       21.6339338 , 11.3460929 ,  7.63888314, 18.86426829,  7.57483051,\n",
       "       17.00682618, 23.40590052, 15.62347779,  9.90868103, 20.44761039,\n",
       "       16.37766467, 17.2959832 , 21.59580326, 13.96385684,  8.88787996,\n",
       "       15.16152314,  8.87338673, 21.7226299 , 16.26362018,  8.1681656 ,\n",
       "       12.63121132,  9.33981296, 20.66297563, 19.94469957, 20.37443008,\n",
       "       21.2926106 ,  8.52771254, 12.77458802, 21.89805198, 18.13348698,\n",
       "        5.74215558, 22.89067208, 16.78426073, 13.21069202, 16.97773556,\n",
       "        7.84904532,  9.01603163, 12.0370073 , 18.97657924, 21.10891244,\n",
       "       17.77949782, 10.62693815, 10.36684881,  9.90298206, 17.32931197,\n",
       "       11.85832174,  4.47758904, 13.81190223,  8.81331353,  9.67530328,\n",
       "       11.44592364, 14.64794093, 10.17840799, 14.42184212, 20.78136464,\n",
       "       15.18140789, 11.59870739, 15.59378475, 11.71127101, 16.92225511,\n",
       "        9.99922965,  4.49631598, 19.15639616, 21.22757378, 10.48212385,\n",
       "       16.31492112, 12.63571716, 15.33707782, 24.11860723, 16.94035021,\n",
       "       13.87595844, 23.24248685, 17.64409385, 14.76221142, 20.30110878,\n",
       "       17.93641467,  6.12602215,  7.10850249,  3.58725841, 19.69293106,\n",
       "       14.7598741 , 21.14027498, 13.88060985, 16.40377623, 15.30509593,\n",
       "       12.91968895, 11.97874744,  6.5707774 , 15.56609348,  6.82006767,\n",
       "       14.41010605,  7.83807642, 13.6264571 , 15.0827909 , 19.45441306,\n",
       "        9.12734958, 10.57717411,  6.599669  , 22.25549161,  7.88410649,\n",
       "       10.4276871 , 15.57779819,  8.44915012, 19.26692307, 11.8368039 ,\n",
       "       14.00141385, 11.45348627, 20.85125198,  9.76842795, 19.67547632,\n",
       "        9.48964097, 18.39902932, 19.24986927,  8.76480262, 10.09133403,\n",
       "        9.70853872, 15.29422368, 23.26086103, 12.26335941,  9.8272711 ,\n",
       "       18.36720534, 10.0095377 , 16.3600003 , 18.22390132, 15.50161696,\n",
       "        5.3075589 , 15.38485192, 10.0143112 , 10.38419866, 12.39914823,\n",
       "       14.21383298, 13.55914568, 14.94678206, 17.35163608, 11.0682946 ,\n",
       "       14.22372138, 10.82439531, 13.36324677, 17.1861428 , 17.9415563 ,\n",
       "        7.39497997, 14.35827373,  7.60769238, 11.97093887, 13.74435742,\n",
       "       24.78687031, 19.9793727 , 12.1620464 , 16.01099722, 12.38455495,\n",
       "       10.5871997 , 13.92809918,  6.55467   , 24.13310013, 18.53852096,\n",
       "       20.80301059,  9.69137313, 17.07644223, 18.64430648,  6.05162411,\n",
       "       12.4891591 ,  8.42401933,  4.46622956, 18.48695797, 16.49530044,\n",
       "        5.37034248,  8.16531236, 12.78592082, 23.76732149, 15.17319554])"
      ]
     },
     "execution_count": 33,
     "metadata": {},
     "output_type": "execute_result"
    }
   ],
   "source": [
    "# Model Prediction\n",
    "y_pred1=lm1.predict(x[['TV','radio','newspaper']])\n",
    "y_pred1"
   ]
  },
  {
   "cell_type": "code",
   "execution_count": 34,
   "id": "9e397877",
   "metadata": {},
   "outputs": [
    {
     "name": "stdout",
     "output_type": "stream",
     "text": [
      "2.7841263145109365\n"
     ]
    }
   ],
   "source": [
    "# RMSE\n",
    "from sklearn.metrics import mean_squared_error\n",
    "print(mean_squared_error(y, y_pred1))"
   ]
  },
  {
   "cell_type": "code",
   "execution_count": 35,
   "id": "6017e37f",
   "metadata": {},
   "outputs": [
    {
     "data": {
      "text/plain": [
       "0.8972106381789521"
      ]
     },
     "execution_count": 35,
     "metadata": {},
     "output_type": "execute_result"
    }
   ],
   "source": [
    "# R-squared\n",
    "from sklearn.metrics import r2_score\n",
    "r2_score(y, y_pred1)"
   ]
  },
  {
   "cell_type": "code",
   "execution_count": 36,
   "id": "5f3dfc4e",
   "metadata": {},
   "outputs": [],
   "source": [
    "# this clearly implies Multiple Linear Regression is giving more accuray than linear Regression"
   ]
  },
  {
   "cell_type": "code",
   "execution_count": 37,
   "id": "6f0dc853",
   "metadata": {},
   "outputs": [],
   "source": [
    "# Multiple Linear Regression without considering newspaper feature"
   ]
  },
  {
   "cell_type": "code",
   "execution_count": 38,
   "id": "3d50cd61",
   "metadata": {},
   "outputs": [],
   "source": [
    "# Dividing features in x and y by not considering newspaper\n",
    "x=sales[['TV','radio']]  # independent variables\n",
    "y=sales['sales']      # Dependent variable"
   ]
  },
  {
   "cell_type": "code",
   "execution_count": 39,
   "id": "2afc2b55",
   "metadata": {},
   "outputs": [
    {
     "data": {
      "text/plain": [
       "LinearRegression()"
      ]
     },
     "execution_count": 39,
     "metadata": {},
     "output_type": "execute_result"
    }
   ],
   "source": [
    "lm2=LinearRegression()\n",
    "lm2.fit(x,y)"
   ]
  },
  {
   "cell_type": "code",
   "execution_count": 40,
   "id": "4b894b70",
   "metadata": {},
   "outputs": [
    {
     "name": "stdout",
     "output_type": "stream",
     "text": [
      "Linear Coefficients: [0.04575482 0.18799423]\n",
      "Linear intercept: 2.921099912405138\n"
     ]
    }
   ],
   "source": [
    "print('Linear Coefficients:',lm2.coef_)\n",
    "print('Linear intercept:',lm2.intercept_)"
   ]
  },
  {
   "cell_type": "code",
   "execution_count": 41,
   "id": "75c6b3b4",
   "metadata": {},
   "outputs": [
    {
     "data": {
      "text/plain": [
       "array([20.55546463, 12.34536229, 12.33701773, 17.61711596, 13.22390813,\n",
       "       12.51208449, 11.71821241, 12.10551553,  3.7093792 , 12.55169696,\n",
       "        7.0358597 , 17.25652015, 10.60866187,  8.81095051, 18.44466773,\n",
       "       20.82891539, 12.90386507, 23.24107626,  9.94121476, 14.15384619,\n",
       "       18.12139161, 14.74206357,  6.51417168, 16.54402663,  8.14035215,\n",
       "       15.6080206 , 14.96769383, 17.0463346 , 19.39954145,  9.15929748,\n",
       "       21.64292187, 11.35791808,  7.65045928, 18.83346334,  7.56302763,\n",
       "       16.99280099, 23.36720719, 15.6258994 ,  9.91257829, 20.4405801 ,\n",
       "       16.37872122, 17.29870935, 21.5621537 , 13.96692266,  8.9009974 ,\n",
       "       15.16263814,  8.88644967, 21.69944046, 16.28690268,  8.18162949,\n",
       "       12.64569407,  9.31962792, 20.66180115, 19.96126242, 20.35512357,\n",
       "       21.30864743,  8.53774783, 12.76239488, 21.89072858, 18.10746914,\n",
       "        5.74497097, 22.90418658, 16.78413768, 13.18474853, 16.96570907,\n",
       "        7.82652846,  8.98703456, 12.02066194, 18.95313425, 21.09369037,\n",
       "       17.78350693, 10.63329605, 10.35113844,  9.91334008, 17.30983543,\n",
       "       11.90970399,  4.48014809, 13.79239059,  8.78920329,  9.67621401,\n",
       "       11.43621364, 14.6638809 , 10.18272029, 14.41647235, 20.77350468,\n",
       "       15.22002396, 11.58203354, 15.61872354, 11.75510286, 16.93110264,\n",
       "        9.98714329,  4.51167896, 19.17972975, 21.26277229, 10.46708623,\n",
       "       16.33347878, 12.62023117, 15.32904398, 24.12842563, 16.94651016,\n",
       "       13.90534597, 23.30701753, 17.64034079, 14.75193037, 20.26809884,\n",
       "       17.95362103,  6.13290678,  7.11373347,  3.59568568, 19.66392439,\n",
       "       14.79408982, 21.12381933, 13.85533202, 16.38399023, 15.29725626,\n",
       "       12.93708446, 11.97848762,  6.56716317, 15.60946713,  6.81665095,\n",
       "       14.42450056,  7.86076515, 13.62136464, 15.05811789, 19.4940435 ,\n",
       "        9.12925166, 10.59096289,  6.59063608, 22.21260278,  7.90401761,\n",
       "       10.39769966, 15.60046013,  8.41888332, 19.27581486, 11.86602974,\n",
       "       13.96678613, 11.42419802, 20.87722595,  9.75760743, 19.63411177,\n",
       "        9.47540519, 18.43880322, 19.25144497,  8.77862066, 10.10502768,\n",
       "        9.6976895 , 15.27918887, 23.26038805, 12.23595022,  9.81659119,\n",
       "       18.37759626, 10.03658404, 16.34251686, 18.22227054, 15.48053237,\n",
       "        5.28942768, 15.39522591, 10.01956371, 10.39341821, 12.40610283,\n",
       "       14.21650102, 13.57248088, 14.94400258, 17.32019972, 11.04707937,\n",
       "       14.28978442, 10.80869402, 13.36076565, 17.21335083, 17.92193265,\n",
       "        7.3895737 , 14.37684633,  7.59657824, 11.96096978, 13.73615116,\n",
       "       24.7835259 , 19.96402163, 12.17492441, 16.01384397, 12.37803956,\n",
       "       10.57508895, 13.93369584,  6.56408761, 24.16393648, 18.53794901,\n",
       "       20.77937663,  9.69868449, 17.06027938, 18.62009678,  6.0514451 ,\n",
       "       12.45497782,  8.4059261 ,  4.47885906, 18.44876059, 16.4631902 ,\n",
       "        5.36451249,  8.15237521, 12.76804849, 23.79292299, 15.15754285])"
      ]
     },
     "execution_count": 41,
     "metadata": {},
     "output_type": "execute_result"
    }
   ],
   "source": [
    "# Model Prediction\n",
    "y_pred2=lm2.predict(x[['TV','radio']])\n",
    "y_pred2"
   ]
  },
  {
   "cell_type": "code",
   "execution_count": 42,
   "id": "5f983387",
   "metadata": {},
   "outputs": [
    {
     "name": "stdout",
     "output_type": "stream",
     "text": [
      "2.784569900338091\n"
     ]
    }
   ],
   "source": [
    "# RMSE\n",
    "from sklearn.metrics import mean_squared_error\n",
    "print(mean_squared_error(y, y_pred2))"
   ]
  },
  {
   "cell_type": "code",
   "execution_count": 43,
   "id": "49e1d532",
   "metadata": {},
   "outputs": [
    {
     "data": {
      "text/plain": [
       "0.8971942610828957"
      ]
     },
     "execution_count": 43,
     "metadata": {},
     "output_type": "execute_result"
    }
   ],
   "source": [
    "# R-squared\n",
    "from sklearn.metrics import r2_score\n",
    "r2_score(y, y_pred2) # Not much effect on the score is observed by not considering newspaper feature"
   ]
  },
  {
   "cell_type": "markdown",
   "id": "eec45d72",
   "metadata": {},
   "source": [
    "# Cross validating "
   ]
  },
  {
   "cell_type": "code",
   "execution_count": 44,
   "id": "655556af",
   "metadata": {},
   "outputs": [
    {
     "name": "stdout",
     "output_type": "stream",
     "text": [
      "Cross validate score: [22.1 10.4  9.3 18.5 12.9  7.2 11.8 13.2  4.8 10.6  8.6 17.4  9.2  9.7\n",
      " 19.  22.4 12.5 24.4 11.3 14.6 18.  12.5  5.6 15.5  9.7 12.  15.  15.9\n",
      " 18.9 10.5 21.4 11.9  9.6 17.4  9.5 12.8 25.4 14.7 10.1 21.5 16.6 17.1\n",
      " 20.7 12.9  8.5 14.9 10.6 23.2 14.8  9.7 11.4 10.7 22.6 21.2 20.2 23.7\n",
      "  5.5 13.2 23.8 18.4  8.1 24.2 15.7 14.  18.   9.3  9.5 13.4 18.9 22.3\n",
      " 18.3 12.4  8.8 11.  17.   8.7  6.9 14.2  5.3 11.  11.8 12.3 11.3 13.6\n",
      " 21.7 15.2 12.  16.  12.9 16.7 11.2  7.3 19.4 22.2 11.5 16.9 11.7 15.5\n",
      " 25.4 17.2 11.7 23.8 14.8 14.7 20.7 19.2  7.2  8.7  5.3 19.8 13.4 21.8\n",
      " 14.1 15.9 14.6 12.6 12.2  9.4 15.9  6.6 15.5  7.  11.6 15.2 19.7 10.6\n",
      "  6.6  8.8 24.7  9.7  1.6 12.7  5.7 19.6 10.8 11.6  9.5 20.8  9.6 20.7\n",
      " 10.9 19.2 20.1 10.4 11.4 10.3 13.2 25.4 10.9 10.1 16.1 11.6 16.6 19.\n",
      " 15.6  3.2 15.3 10.1  7.3 12.9 14.4 13.3 14.9 18.  11.9 11.9  8.  12.2\n",
      " 17.1 15.   8.4 14.5  7.6 11.7 11.5 27.  20.2 11.7 11.8 12.6 10.5 12.2\n",
      "  8.7 26.2 17.6 22.6 10.3 17.3 15.9  6.7 10.8  9.9  5.9 19.6 17.3  7.6\n",
      "  9.7 12.8 25.5 13.4]\n"
     ]
    }
   ],
   "source": [
    "\n",
    "from sklearn.model_selection import cross_val_predict\n",
    "scores=cross_val_predict(lm1,sales,y,cv=6)\n",
    "print ('Cross validate score:',scores)"
   ]
  },
  {
   "cell_type": "code",
   "execution_count": null,
   "id": "afc56eb5",
   "metadata": {},
   "outputs": [],
   "source": []
  },
  {
   "cell_type": "code",
   "execution_count": 45,
   "id": "e2a80a51",
   "metadata": {},
   "outputs": [],
   "source": [
    "# Cross validation is giving almost 100% accuracy, may be some variation for real and predicted value.\n"
   ]
  },
  {
   "cell_type": "markdown",
   "id": "143de0df",
   "metadata": {},
   "source": [
    "# Hence multiple linear regression works better in case of this Dataset when we compare the RMSE for both"
   ]
  },
  {
   "cell_type": "code",
   "execution_count": 46,
   "id": "0533035c",
   "metadata": {},
   "outputs": [],
   "source": [
    "import pickle"
   ]
  },
  {
   "cell_type": "code",
   "execution_count": 47,
   "id": "dc84caf0",
   "metadata": {},
   "outputs": [],
   "source": [
    "filename= 'Advertising Sales Prediction'\n",
    "pickle.dump(lm1, open(filename,'wb'))"
   ]
  },
  {
   "cell_type": "code",
   "execution_count": null,
   "id": "9f6c427f",
   "metadata": {},
   "outputs": [],
   "source": []
  }
 ],
 "metadata": {
  "kernelspec": {
   "display_name": "Python 3",
   "language": "python",
   "name": "python3"
  },
  "language_info": {
   "codemirror_mode": {
    "name": "ipython",
    "version": 3
   },
   "file_extension": ".py",
   "mimetype": "text/x-python",
   "name": "python",
   "nbconvert_exporter": "python",
   "pygments_lexer": "ipython3",
   "version": "3.8.8"
  }
 },
 "nbformat": 4,
 "nbformat_minor": 5
}
